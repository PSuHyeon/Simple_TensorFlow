{
  "nbformat": 4,
  "nbformat_minor": 0,
  "metadata": {
    "colab": {
      "provenance": [],
      "authorship_tag": "ABX9TyNVZ+OyakdukXGCm2GWZosL",
      "include_colab_link": true
    },
    "kernelspec": {
      "name": "python3",
      "display_name": "Python 3"
    },
    "language_info": {
      "name": "python"
    }
  },
  "cells": [
    {
      "cell_type": "markdown",
      "metadata": {
        "id": "view-in-github",
        "colab_type": "text"
      },
      "source": [
        "<a href=\"https://colab.research.google.com/github/PSuHyeon/Simple_TensorFlow/blob/main/Var_Fun.ipynb\" target=\"_parent\"><img src=\"https://colab.research.google.com/assets/colab-badge.svg\" alt=\"Open In Colab\"/></a>"
      ]
    },
    {
      "cell_type": "markdown",
      "source": [
        "Current state: 22 \n",
        "\n",
        "\n",
        "TODO: package system\n",
        "\n",
        "\n",
        "\n"
      ],
      "metadata": {
        "id": "1wGqUshvYmSy"
      }
    },
    {
      "cell_type": "code",
      "source": [
        "import numpy as np\n",
        "import weakref\n",
        "import contextlib\n"
      ],
      "metadata": {
        "id": "kkRA1W0DBNcv"
      },
      "execution_count": null,
      "outputs": []
    },
    {
      "cell_type": "code",
      "source": [
        "class Config:\n",
        "  enable_backprop = None\n",
        "\n",
        "@contextlib.contextmanager\n",
        "def using_config(name, value):\n",
        "  oldvalue = getattr(Config, name)\n",
        "  setattr(Config, name, value)\n",
        "  try:\n",
        "    yield\n",
        "  finally:\n",
        "    setattr(Config, name, oldvalue)\n",
        "\n",
        "def no_grad():\n",
        "  return using_config('enable_backprop', False)\n",
        "\n",
        "def as_array(x):\n",
        "  if np.isscalar(x):\n",
        "    return np.array(x)\n",
        "  return x\n",
        "\n",
        "def as_variable(obj):\n",
        "  if isinstance(obj, Variable):\n",
        "    return obj\n",
        "  else:\n",
        "    return Variable(obj)"
      ],
      "metadata": {
        "id": "uaL1jFa-VO0j"
      },
      "execution_count": null,
      "outputs": []
    },
    {
      "cell_type": "markdown",
      "source": [
        "Class Variable:"
      ],
      "metadata": {
        "id": "BdV3YaawEApQ"
      }
    },
    {
      "cell_type": "code",
      "execution_count": null,
      "metadata": {
        "id": "-luDPwRuA-nS"
      },
      "outputs": [],
      "source": [
        "class Variable:\n",
        "  __array_priority_ = 200  #이건 ndarray 가 왼쪽에 올 때 Variable의 operator 가 우선권을 주기 위함임. \n",
        "  def __init__(self, data, name = None):\n",
        "    if data is not None:\n",
        "      if not isinstance(data, np.ndarray):\n",
        "        raise TypeError('{}은(는) 지원하지 않습니다.'.format(type(data)))\n",
        "\n",
        "    self.data = data\n",
        "    self.name = name\n",
        "    self.grad = None\n",
        "    self.creator = None\n",
        "    self.generation = 0\n",
        "  \n",
        "  @property\n",
        "  def shape(self):\n",
        "    return self.data.shape\n",
        "\n",
        "  @property\n",
        "  def ndim(self):\n",
        "    return self.data.ndim\n",
        "  \n",
        "  @property\n",
        "  def size(self):\n",
        "    return self.data.size\n",
        "\n",
        "  @property\n",
        "  def dtype(self):\n",
        "    return self.data.dtype\n",
        "\n",
        "  def set_creator(self, f):\n",
        "    self.creator = f\n",
        "    self.generation = f.generation + 1\n",
        "\n",
        "  def cleargrad(self):\n",
        "    self.grad = None\n",
        "\n",
        "  def __len__(self):\n",
        "    return len(self.data)\n",
        "  \n",
        "  def __repr__(self):\n",
        "    if self.data is None: \n",
        "      return 'variable(None)'\n",
        "    else:\n",
        "      p = str(self.data).replace('\\n', '\\n' + ' ' * 9)\n",
        "      return 'variable(' + p + ')'\n",
        "\n",
        "  def backward(self, retain_grad = False):\n",
        "    \n",
        "    if self.grad is None: \n",
        "      self.grad = np.ones_like(self.data)\n",
        "\n",
        "    funcs = []\n",
        "    seen_set = set()\n",
        "\n",
        "    def add_func(f):\n",
        "      if f not in seen_set:\n",
        "        funcs.append(f)\n",
        "        seen_set.add(f)\n",
        "        funcs.sort(key = lambda x: x.generation)\n",
        "\n",
        "    add_func(self.creator)\n",
        "    while funcs:\n",
        "      f = funcs.pop()\n",
        "      gys = [output().grad for output in f.outputs]\n",
        "      gxs = f.backward(*gys)\n",
        "      if not isinstance(gxs, tuple):\n",
        "        gxs = (gxs,) \n",
        "      for x, gx in zip(f.inputs, gxs): \n",
        "        if x.grad is not None:\n",
        "          x.grad = x.grad + gx\n",
        "        else:\n",
        "          x.grad = gx\n",
        "      \n",
        "        if x.creator is not None:\n",
        "          add_func(x.creator)\n",
        "      if not retain_grad:\n",
        "        for y in f.outputs:\n",
        "          y().grad = None\n",
        "  "
      ]
    },
    {
      "cell_type": "markdown",
      "source": [
        "Class Function (this will be overloaded into specific function):\n",
        "\n",
        "  Define by run method --> as function proceed forward, result variable keeps tracks of creator (function/method) of which it was made. "
      ],
      "metadata": {
        "id": "58IjuTf1EDrb"
      }
    },
    {
      "cell_type": "code",
      "source": [
        "class Function:\n",
        "\n",
        "  def __call__(self, *inputs):\n",
        "    inputs = [as_variable(input) for input in inputs]\n",
        "    xs = [x.data for x in inputs]\n",
        "    ys = self.forward(*xs)\n",
        "    if not isinstance(ys, tuple):\n",
        "      ys = (ys,)\n",
        "    outputs = [Variable(as_array(y)) for y in ys]\n",
        "\n",
        "    if Config.enable_backprop:\n",
        "      self.generation = max([input.generation for input in inputs])\n",
        "      for o in outputs:\n",
        "        o.set_creator(self)\n",
        "      self.inputs = inputs\n",
        "      self.outputs = [weakref.ref(output) for output in outputs]\n",
        "\n",
        "    return outputs if len(outputs) > 1 else outputs[0]\n",
        "\n",
        "  def forward(self, x):\n",
        "    raise NotImplementedError\n",
        "\n",
        "  def backward(self, x):\n",
        "    raise NotImplementedError"
      ],
      "metadata": {
        "id": "aWkn63dKBtm-"
      },
      "execution_count": null,
      "outputs": []
    },
    {
      "cell_type": "markdown",
      "source": [
        "Specific higher functions:"
      ],
      "metadata": {
        "id": "fLsRq0UhEP0J"
      }
    },
    {
      "cell_type": "code",
      "source": [
        "class Square(Function):\n",
        "\n",
        "  def forward(self, input):\n",
        "    y = input ** 2\n",
        "    return y\n",
        "  \n",
        "  def backward(self, gy):\n",
        "    gx = 2 * self.inputs[0].data * gy\n",
        "    return gx\n",
        "\n",
        "def square(x):\n",
        "  return Square()(x)"
      ],
      "metadata": {
        "id": "jJCvovJfCIvW"
      },
      "execution_count": null,
      "outputs": []
    },
    {
      "cell_type": "code",
      "source": [
        "class Exp(Function):\n",
        "  \n",
        "  def forward(self, input):\n",
        "    y = np.exp(input)\n",
        "    return \n",
        "  \n",
        "  def backward(self, gy):\n",
        "    gx = np.exp(self.inputs[0].data) * gy\n",
        "    return gx\n",
        "\n",
        "def exp(x):\n",
        "  return Exp()(x)"
      ],
      "metadata": {
        "id": "qNG9637WGu-2"
      },
      "execution_count": null,
      "outputs": []
    },
    {
      "cell_type": "code",
      "source": [
        "class Add(Function):\n",
        "\n",
        "  def forward(self, x0, x1):\n",
        "    y = x0 + x1\n",
        "    return y \n",
        "\n",
        "  def backward(self, gy):\n",
        "    return gy, gy\n",
        "\n",
        "def add(x1, x2):\n",
        "  x1 = as_array(x1)\n",
        "  return Add()(x1, x2)\n",
        "\n",
        "Variable.__add__ = add\n",
        "Variable.__radd__ = add"
      ],
      "metadata": {
        "id": "mYpJdm14V92n"
      },
      "execution_count": null,
      "outputs": []
    },
    {
      "cell_type": "code",
      "source": [
        "class Mul(Function):\n",
        "  \n",
        "  def forward(self, x0, x1):\n",
        "    y = x0 * x1\n",
        "    return  y\n",
        "  \n",
        "  def backward(self, gy):\n",
        "    x0, x1 = self.inputs[0].data, self.inputs[1].data\n",
        "    return x1 * gy, x0 * gy\n",
        "\n",
        "def mul(x0, x1):\n",
        "  x1 = as_array(x1)\n",
        "  return Mul()(x0, x1)\n",
        "\n",
        "Variable.__mul__ = mul\n",
        "Variable.__rmul__ = mul"
      ],
      "metadata": {
        "id": "lgddOKrhdmI8"
      },
      "execution_count": null,
      "outputs": []
    },
    {
      "cell_type": "code",
      "source": [
        "class Neg(Function):\n",
        "  def forward(self, x):\n",
        "    return -x\n",
        "  def backward(self, gy):\n",
        "    return -gy\n",
        "  \n",
        "def neg(x):\n",
        "  return Neg()(x)\n",
        "\n",
        "Variable.__neg__ = neg "
      ],
      "metadata": {
        "id": "sJ2DC2aZk6e3"
      },
      "execution_count": null,
      "outputs": []
    },
    {
      "cell_type": "code",
      "source": [
        "class Sub(Function):\n",
        "  def forward(self, x0, x1):\n",
        "    y = x0 - x1 \n",
        "    return y\n",
        "  def backward(self, gy):\n",
        "    return gy, -gy \n",
        "  \n",
        "def sub(x0, x1):\n",
        "  x1 = as_array(x1)\n",
        "  return Sub()(x0, x1)\n",
        "\n",
        "def rsub(x0, x1): \n",
        "  x1 = as_array(x1)\n",
        "  return Sub()(x1, x0)\n",
        "Variable.__sub__ = sub\n",
        "Variable.__rsub__ = rsub\n"
      ],
      "metadata": {
        "id": "qjSp3LJIliOT"
      },
      "execution_count": null,
      "outputs": []
    },
    {
      "cell_type": "code",
      "source": [
        "class Div(Function):\n",
        "  def forward(self, x0, x1):\n",
        "    y = x0 / x1\n",
        "    return y\n",
        "  \n",
        "  def backward(self, gy):\n",
        "    x0, x1 = self.inputs[0].data, self.inputs[1].data\n",
        "    gx0 = gy / x1\n",
        "    gx1 = -gy * x0 / (x1 ** 2)\n",
        "    return gx0, gx1\n",
        "\n",
        "def div(x0, x1):\n",
        "  x1 = as_array(x1)\n",
        "  return Div()(x0, x1)\n",
        "\n",
        "def rdiv(x0, x1):\n",
        "  x1 = as_array(x1)\n",
        "  return Div()(x1, x0)\n",
        "\n",
        "Variable.__truediv__ = div\n",
        "Variable.__rtruediv__ = rdiv"
      ],
      "metadata": {
        "id": "s2rGJYV_memi"
      },
      "execution_count": null,
      "outputs": []
    },
    {
      "cell_type": "code",
      "source": [
        "class Pow(Function):\n",
        "\n",
        "  def __init__(self, c):\n",
        "    self.c = c \n",
        "\n",
        "  def forward(self, x):\n",
        "    c = self.c\n",
        "    y = x ** c\n",
        "    return y\n",
        "  \n",
        "  def backward(self, gy):\n",
        "    x = self.inputs[0].data\n",
        "    c = self.c\n",
        "    gx = c * (x ** (c - 1)) * gy\n",
        "    return gx\n",
        "\n",
        "def pow(x,c):\n",
        "  # c = as_array(c)\n",
        "  return Pow(c)(x) \n",
        "\n",
        "Variable.__pow__ = pow\n"
      ],
      "metadata": {
        "id": "_VNyZfHCpmPr"
      },
      "execution_count": null,
      "outputs": []
    },
    {
      "cell_type": "markdown",
      "source": [
        "Numerical differentiation:"
      ],
      "metadata": {
        "id": "UQafXJ3mE0l6"
      }
    },
    {
      "cell_type": "code",
      "source": [
        "def numerical_diff(f, x, e=1e-4):\n",
        "  x0 = Variable(x.data + e)\n",
        "  x1 = Variable(x.data - e)\n",
        "  y0 = f(x0)\n",
        "  y1 = f(x1)\n",
        "  return (y0.data - y1.data) / (2 * e) "
      ],
      "metadata": {
        "id": "kJ9HgnWxEz36"
      },
      "execution_count": null,
      "outputs": []
    }
  ]
}