{
  "nbformat": 4,
  "nbformat_minor": 0,
  "metadata": {
    "colab": {
      "provenance": [],
      "mount_file_id": "1PcTsxo2vOyRi6-8QaJbY3lOOSuQIm3ID",
      "authorship_tag": "ABX9TyOs8TrbrV2ZDl7uMNRo3dCu",
      "include_colab_link": true
    },
    "kernelspec": {
      "name": "python3",
      "display_name": "Python 3"
    },
    "language_info": {
      "name": "python"
    }
  },
  "cells": [
    {
      "cell_type": "markdown",
      "metadata": {
        "id": "view-in-github",
        "colab_type": "text"
      },
      "source": [
        "<a href=\"https://colab.research.google.com/github/PSuHyeon/Simple_TensorFlow/blob/main/test.ipynb\" target=\"_parent\"><img src=\"https://colab.research.google.com/assets/colab-badge.svg\" alt=\"Open In Colab\"/></a>"
      ]
    },
    {
      "cell_type": "markdown",
      "source": [
        "Import 명령어 (Used import_ipynb module)"
      ],
      "metadata": {
        "id": "BIf17mv9xmG_"
      }
    },
    {
      "cell_type": "code",
      "source": [
        "!pip install import_ipynb\n",
        "from google.colab import drive\n",
        "drive.mount('/content/drive') \n",
        "import import_ipynb\n",
        "import numpy as np"
      ],
      "metadata": {
        "id": "y_9wN_2Brt1K",
        "colab": {
          "base_uri": "https://localhost:8080/"
        },
        "outputId": "3165dc37-69be-46aa-9acd-f7b77bcae349"
      },
      "execution_count": 26,
      "outputs": [
        {
          "output_type": "stream",
          "name": "stdout",
          "text": [
            "Looking in indexes: https://pypi.org/simple, https://us-python.pkg.dev/colab-wheels/public/simple/\n",
            "Requirement already satisfied: import_ipynb in /usr/local/lib/python3.9/dist-packages (0.1.4)\n",
            "Requirement already satisfied: nbformat in /usr/local/lib/python3.9/dist-packages (from import_ipynb) (5.7.3)\n",
            "Requirement already satisfied: IPython in /usr/local/lib/python3.9/dist-packages (from import_ipynb) (7.9.0)\n",
            "Requirement already satisfied: pickleshare in /usr/local/lib/python3.9/dist-packages (from IPython->import_ipynb) (0.7.5)\n",
            "Requirement already satisfied: pexpect in /usr/local/lib/python3.9/dist-packages (from IPython->import_ipynb) (4.8.0)\n",
            "Requirement already satisfied: traitlets>=4.2 in /usr/local/lib/python3.9/dist-packages (from IPython->import_ipynb) (5.7.1)\n",
            "Requirement already satisfied: decorator in /usr/local/lib/python3.9/dist-packages (from IPython->import_ipynb) (4.4.2)\n",
            "Requirement already satisfied: prompt-toolkit<2.1.0,>=2.0.0 in /usr/local/lib/python3.9/dist-packages (from IPython->import_ipynb) (2.0.10)\n",
            "Requirement already satisfied: backcall in /usr/local/lib/python3.9/dist-packages (from IPython->import_ipynb) (0.2.0)\n",
            "Requirement already satisfied: setuptools>=18.5 in /usr/local/lib/python3.9/dist-packages (from IPython->import_ipynb) (57.4.0)\n",
            "Requirement already satisfied: pygments in /usr/local/lib/python3.9/dist-packages (from IPython->import_ipynb) (2.6.1)\n",
            "Requirement already satisfied: jedi>=0.10 in /usr/local/lib/python3.9/dist-packages (from IPython->import_ipynb) (0.18.2)\n",
            "Requirement already satisfied: fastjsonschema in /usr/local/lib/python3.9/dist-packages (from nbformat->import_ipynb) (2.16.3)\n",
            "Requirement already satisfied: jsonschema>=2.6 in /usr/local/lib/python3.9/dist-packages (from nbformat->import_ipynb) (4.3.3)\n",
            "Requirement already satisfied: jupyter-core in /usr/local/lib/python3.9/dist-packages (from nbformat->import_ipynb) (5.2.0)\n",
            "Requirement already satisfied: parso<0.9.0,>=0.8.0 in /usr/local/lib/python3.9/dist-packages (from jedi>=0.10->IPython->import_ipynb) (0.8.3)\n",
            "Requirement already satisfied: pyrsistent!=0.17.0,!=0.17.1,!=0.17.2,>=0.14.0 in /usr/local/lib/python3.9/dist-packages (from jsonschema>=2.6->nbformat->import_ipynb) (0.19.3)\n",
            "Requirement already satisfied: attrs>=17.4.0 in /usr/local/lib/python3.9/dist-packages (from jsonschema>=2.6->nbformat->import_ipynb) (22.2.0)\n",
            "Requirement already satisfied: wcwidth in /usr/local/lib/python3.9/dist-packages (from prompt-toolkit<2.1.0,>=2.0.0->IPython->import_ipynb) (0.2.6)\n",
            "Requirement already satisfied: six>=1.9.0 in /usr/local/lib/python3.9/dist-packages (from prompt-toolkit<2.1.0,>=2.0.0->IPython->import_ipynb) (1.15.0)\n",
            "Requirement already satisfied: platformdirs>=2.5 in /usr/local/lib/python3.9/dist-packages (from jupyter-core->nbformat->import_ipynb) (3.1.0)\n",
            "Requirement already satisfied: ptyprocess>=0.5 in /usr/local/lib/python3.9/dist-packages (from pexpect->IPython->import_ipynb) (0.7.0)\n",
            "Drive already mounted at /content/drive; to attempt to forcibly remount, call drive.mount(\"/content/drive\", force_remount=True).\n"
          ]
        }
      ]
    },
    {
      "cell_type": "code",
      "source": [
        "# Colab 과 Google drive 환경에서 개발했기 때문에 추후에 import 주소 변경해야 할 수 있음. \n",
        "%run drive/MyDrive/Colab_Notebooks/Simple_tf/Functions.ipynb"
      ],
      "metadata": {
        "colab": {
          "base_uri": "https://localhost:8080/"
        },
        "id": "oaaTpP8kx-gd",
        "outputId": "94be205c-c999-4680-8395-d012bdf6be4e"
      },
      "execution_count": 36,
      "outputs": [
        {
          "output_type": "stream",
          "name": "stdout",
          "text": [
            "Looking in indexes: https://pypi.org/simple, https://us-python.pkg.dev/colab-wheels/public/simple/\n",
            "Requirement already satisfied: import_ipynb in /usr/local/lib/python3.9/dist-packages (0.1.4)\n",
            "Requirement already satisfied: nbformat in /usr/local/lib/python3.9/dist-packages (from import_ipynb) (5.7.3)\n",
            "Requirement already satisfied: IPython in /usr/local/lib/python3.9/dist-packages (from import_ipynb) (7.9.0)\n",
            "Requirement already satisfied: decorator in /usr/local/lib/python3.9/dist-packages (from IPython->import_ipynb) (4.4.2)\n",
            "Requirement already satisfied: backcall in /usr/local/lib/python3.9/dist-packages (from IPython->import_ipynb) (0.2.0)\n",
            "Requirement already satisfied: pickleshare in /usr/local/lib/python3.9/dist-packages (from IPython->import_ipynb) (0.7.5)\n",
            "Requirement already satisfied: pexpect in /usr/local/lib/python3.9/dist-packages (from IPython->import_ipynb) (4.8.0)\n",
            "Requirement already satisfied: setuptools>=18.5 in /usr/local/lib/python3.9/dist-packages (from IPython->import_ipynb) (57.4.0)\n",
            "Requirement already satisfied: prompt-toolkit<2.1.0,>=2.0.0 in /usr/local/lib/python3.9/dist-packages (from IPython->import_ipynb) (2.0.10)\n",
            "Requirement already satisfied: jedi>=0.10 in /usr/local/lib/python3.9/dist-packages (from IPython->import_ipynb) (0.18.2)\n",
            "Requirement already satisfied: traitlets>=4.2 in /usr/local/lib/python3.9/dist-packages (from IPython->import_ipynb) (5.7.1)\n",
            "Requirement already satisfied: pygments in /usr/local/lib/python3.9/dist-packages (from IPython->import_ipynb) (2.6.1)\n",
            "Requirement already satisfied: fastjsonschema in /usr/local/lib/python3.9/dist-packages (from nbformat->import_ipynb) (2.16.3)\n",
            "Requirement already satisfied: jsonschema>=2.6 in /usr/local/lib/python3.9/dist-packages (from nbformat->import_ipynb) (4.3.3)\n",
            "Requirement already satisfied: jupyter-core in /usr/local/lib/python3.9/dist-packages (from nbformat->import_ipynb) (5.2.0)\n",
            "Requirement already satisfied: parso<0.9.0,>=0.8.0 in /usr/local/lib/python3.9/dist-packages (from jedi>=0.10->IPython->import_ipynb) (0.8.3)\n",
            "Requirement already satisfied: attrs>=17.4.0 in /usr/local/lib/python3.9/dist-packages (from jsonschema>=2.6->nbformat->import_ipynb) (22.2.0)\n",
            "Requirement already satisfied: pyrsistent!=0.17.0,!=0.17.1,!=0.17.2,>=0.14.0 in /usr/local/lib/python3.9/dist-packages (from jsonschema>=2.6->nbformat->import_ipynb) (0.19.3)\n",
            "Requirement already satisfied: six>=1.9.0 in /usr/local/lib/python3.9/dist-packages (from prompt-toolkit<2.1.0,>=2.0.0->IPython->import_ipynb) (1.15.0)\n",
            "Requirement already satisfied: wcwidth in /usr/local/lib/python3.9/dist-packages (from prompt-toolkit<2.1.0,>=2.0.0->IPython->import_ipynb) (0.2.6)\n",
            "Requirement already satisfied: platformdirs>=2.5 in /usr/local/lib/python3.9/dist-packages (from jupyter-core->nbformat->import_ipynb) (3.1.0)\n",
            "Requirement already satisfied: ptyprocess>=0.5 in /usr/local/lib/python3.9/dist-packages (from pexpect->IPython->import_ipynb) (0.7.0)\n",
            "Drive already mounted at /content/drive; to attempt to forcibly remount, call drive.mount(\"/content/drive\", force_remount=True).\n"
          ]
        }
      ]
    },
    {
      "cell_type": "markdown",
      "source": [
        "Testing Sin graph with its first, second, third order differentiation"
      ],
      "metadata": {
        "id": "4Jmi4AbMEz1X"
      }
    },
    {
      "cell_type": "code",
      "source": [
        "import matplotlib.pyplot as plt\n",
        "x = Variable(np.linspace(-5, 5, 200)) \n",
        "y = sin(x)\n",
        "y.backward(create_graph = True) \n",
        "\n",
        "logs = [y.data]\n",
        "\n",
        "for i in range(3):\n",
        "  logs.append(x.grad.data)\n",
        "  gx = x.grad \n",
        "  x.cleargrad() \n",
        "  gx.backward(create_graph=True)\n",
        "labels = [\"y\", \"y'\", \"y''\", \"y'''\"]\n",
        "for i, v in enumerate(logs):\n",
        "  plt.plot(x.data, logs[i], label = labels[i])\n",
        "plt.legend(loc='lower right')\n",
        "plt.show()"
      ],
      "metadata": {
        "colab": {
          "base_uri": "https://localhost:8080/",
          "height": 265
        },
        "id": "UWmwEeTxh-yX",
        "outputId": "6388f4b5-9107-4f57-b137-e179430fb85e"
      },
      "execution_count": 28,
      "outputs": [
        {
          "output_type": "display_data",
          "data": {
            "text/plain": [
              "<Figure size 432x288 with 1 Axes>"
            ],
            "image/png": "[encoded data removed]"
          },
          "metadata": {
            "needs_background": "light"
          }
        }
      ]
    },
    {
      "cell_type": "markdown",
      "source": [
        "Testing efficiency for newton's method:\n",
        "\n",
        "Newton's method works well since it automatically approximate learning rate using second order differentiation. However, calculating second order differentiation takes O(n^3), and therefore, it is not applicable for ordinary machine learning"
      ],
      "metadata": {
        "id": "2Ki9FjZTE7fp"
      }
    },
    {
      "cell_type": "code",
      "source": [
        "x = Variable(np.array(2.0))\n",
        "f = lambda x: x ** 4 - 2 * x ** 2\n",
        "iter = 10 #only 10 iterations!\n",
        "\n",
        "for i in range(iter):\n",
        "  y = f(x)\n",
        "  x.cleargrad()\n",
        "  y.backward(create_graph=True)\n",
        "\n",
        "  dx = x.grad\n",
        "  x.cleargrad()\n",
        "  dx.backward()\n",
        "  ddx = x.grad\n",
        "\n",
        "  x.data -= dx.data / ddx.data \n",
        "\n",
        "  print(x.data)\n"
      ],
      "metadata": {
        "colab": {
          "base_uri": "https://localhost:8080/"
        },
        "id": "koFH0iTUE-NW",
        "outputId": "c9f6f6ef-21f3-44bc-ffd0-460f5cc43b5c"
      },
      "execution_count": 29,
      "outputs": [
        {
          "output_type": "stream",
          "name": "stdout",
          "text": [
            "1.4545454545454546\n",
            "1.1510467893775467\n",
            "1.0253259289766978\n",
            "1.0009084519430513\n",
            "1.0000012353089454\n",
            "1.000000000002289\n",
            "1.0\n",
            "1.0\n",
            "1.0\n",
            "1.0\n"
          ]
        }
      ]
    },
    {
      "cell_type": "code",
      "source": [
        "x0 = Variable(np.array([1,2,3]))\n",
        "x1 = Variable(np.array([10]))\n",
        "y = x0 - x1\n",
        "y.backward()\n",
        "print(x1.grad)"
      ],
      "metadata": {
        "colab": {
          "base_uri": "https://localhost:8080/"
        },
        "id": "KibvXHZCFYtF",
        "outputId": "104b54fb-9643-41a5-f44f-aded3f6d59de"
      },
      "execution_count": 30,
      "outputs": [
        {
          "output_type": "stream",
          "name": "stdout",
          "text": [
            "variable([-3])\n"
          ]
        }
      ]
    },
    {
      "cell_type": "code",
      "source": [
        "x = Variable(np.random.randn(2,3))\n",
        "W = Variable(np.random.randn(3,4))\n",
        "\n",
        "y = matmul(x, W)\n",
        "y.backward()\n",
        "print()\n",
        "print(y)"
      ],
      "metadata": {
        "id": "fx7BP-GcW8GT",
        "colab": {
          "base_uri": "https://localhost:8080/"
        },
        "outputId": "286fd642-1b1d-4472-f9a4-a221d90d5f8d"
      },
      "execution_count": 31,
      "outputs": [
        {
          "output_type": "stream",
          "name": "stdout",
          "text": [
            "\n",
            "variable([[-1.53384138  0.98765554 -0.32921517 -3.70605353]\n",
            "          [ 0.02200258 -0.97604015  0.67659191 -0.54363972]])\n"
          ]
        }
      ]
    },
    {
      "cell_type": "code",
      "source": [
        "def predict(x, W, b):\n",
        "  y = matmul(x, W) + b\n",
        "  return y\n",
        "\n",
        "x = np.random.rand(100, 1)\n",
        "y = 5 + 2 * x + np.random.rand(100, 1)\n",
        "w = Variable(np.zeros((1,1)))\n",
        "b = Variable(np.zeros((1,1)))\n",
        "\n",
        "lr = 0.1\n",
        "iters = 100\n",
        "\n",
        "for i in range(iters):\n",
        "  y_pred = predict(x, w, b)\n",
        "  loss = mean_squared_error(y, y_pred) \n",
        "  w.cleargrad()\n",
        "  b.cleargrad()\n",
        "  loss.backward()\n",
        "\n",
        "  w.data -= lr * w.grad.data\n",
        "  b.data -= lr * b.grad.data\n",
        "\n",
        "  print(w, b, loss)"
      ],
      "metadata": {
        "colab": {
          "base_uri": "https://localhost:8080/"
        },
        "id": "G3SmdUbqfIIb",
        "outputId": "4c5dc6bd-ad50-4347-a728-83363bb3c736"
      },
      "execution_count": 32,
      "outputs": [
        {
          "output_type": "stream",
          "name": "stdout",
          "text": [
            "variable([[0.62329219]]) variable([[1.29185699]]) variable(42.126636727973384)\n",
            "variable([[1.09223633]]) variable([[2.26830101]]) variable(24.071122183495614)\n",
            "variable([[1.44464288]]) variable([[3.00654007]]) variable(13.77382404987508)\n",
            "variable([[1.70906526]]) variable([[3.56488026]]) variable(7.901024102747971)\n",
            "variable([[1.90706616]]) variable([[3.98735339]]) variable(4.55151126745009)\n",
            "variable([[2.054929]]) variable([[4.30721152]]) variable(2.6410295966663684)\n",
            "variable([[2.1649504]]) variable([[4.54956612]]) variable(1.5512305440805703)\n",
            "variable([[2.24641625]]) variable([[4.73338103]]) variable(0.9294713538956461)\n",
            "variable([[2.30633879]]) variable([[4.87297747]]) variable(0.5746406000743363)\n",
            "variable([[2.35001325]]) variable([[4.97917072]]) variable(0.3720447865588527)\n",
            "variable([[2.38143819]]) variable([[5.06012838]]) variable(0.25627434367344504)\n",
            "variable([[2.40363299]]) variable([[5.12201861]]) variable(0.19002620180432964)\n",
            "variable([[2.41887755]]) variable([[5.1694996]]) variable(0.15202635983215412)\n",
            "variable([[2.42889334]]) variable([[5.20608926]]) variable(0.13014215703759463)\n",
            "variable([[2.43498013]]) variable([[5.23444437]]) variable(0.11745421947735171)\n",
            "variable([[2.43811921]]) variable([[5.25657143]]) variable(0.11001630105819496)\n",
            "variable([[2.43905137]]) variable([[5.27398579]]) variable(0.10557772659427)\n",
            "variable([[2.43833581]]) variable([[5.28783197]]) variable(0.10285480428833421)\n",
            "variable([[2.43639456]]) variable([[5.2989744]]) variable(0.10111531405812309)\n",
            "variable([[2.4335461]]) variable([[5.30806601]]) variable(0.09994154220993239)\n",
            "variable([[2.43003068]]) variable([[5.31559997]]) variable(0.09909514063465034)\n",
            "variable([[2.4260295]]) variable([[5.32194886]]) variable(0.09844005626795357)\n",
            "variable([[2.42167918]]) variable([[5.32739415]]) variable(0.0978985778742765)\n",
            "variable([[2.41708264]]) variable([[5.3321485]]) variable(0.09742626955712627)\n",
            "variable([[2.41231739]]) variable([[5.33637264]]) variable(0.09699767532278272)\n",
            "variable([[2.40744171]]) variable([[5.34018806]]) variable(0.09659816635002473)\n",
            "variable([[2.40249942]]) variable([[5.3436866]]) variable(0.09621929143130141)\n",
            "variable([[2.39752338]]) variable([[5.34693773]]) variable(0.0958561252655488)\n",
            "variable([[2.39253818]]) variable([[5.34999402]]) variable(0.0955057561226101)\n",
            "variable([[2.38756219]]) variable([[5.35289529]]) variable(0.09516642329026163)\n",
            "variable([[2.38260906]]) variable([[5.35567168]]) variable(0.0948370250924539)\n",
            "variable([[2.37768889]]) variable([[5.3583461]]) variable(0.09451683824518611)\n",
            "variable([[2.3728091]]) variable([[5.3609359]]) variable(0.09420535773946576)\n",
            "variable([[2.36797511]]) variable([[5.36345433]]) variable(0.09390220546228627)\n",
            "variable([[2.36319078]]) variable([[5.36591146]]) variable(0.09360707802040653)\n",
            "variable([[2.35845885]]) variable([[5.36831501]]) variable(0.09331971692303163)\n",
            "variable([[2.35378119]]) variable([[5.3706709]]) variable(0.09303989151731656)\n",
            "variable([[2.34915901]]) variable([[5.3729837]]) variable(0.09276738919833324)\n",
            "variable([[2.34459304]]) variable([[5.37525694]]) variable(0.09250200976916183)\n",
            "variable([[2.34008364]]) variable([[5.3774934]]) variable(0.09224356216926764)\n",
            "variable([[2.3356309]]) variable([[5.37969525]]) variable(0.09199186255494445)\n",
            "variable([[2.33123471]]) variable([[5.38186423]]) variable(0.09174673315224131)\n",
            "variable([[2.32689479]]) variable([[5.38400174]]) variable(0.0915080015518007)\n",
            "variable([[2.32261077]]) variable([[5.38610892]]) variable(0.09127550025704773)\n",
            "variable([[2.31838217]]) variable([[5.38818672]]) variable(0.09104906637816117)\n",
            "variable([[2.31420849]]) variable([[5.39023595]]) variable(0.09082854141044529)\n",
            "variable([[2.31008914]]) variable([[5.3922573]]) variable(0.09061377106206375)\n",
            "variable([[2.30602353]]) variable([[5.39425136]]) variable(0.09040460511112296)\n",
            "variable([[2.30201105]]) variable([[5.39621868]]) variable(0.09020089728065708)\n",
            "variable([[2.29805107]]) variable([[5.39815975]]) variable(0.09000250512495986)\n",
            "variable([[2.29414293]]) variable([[5.40007501]]) variable(0.08980928992349126)\n",
            "variable([[2.29028601]]) variable([[5.40196487]]) variable(0.0896211165801824)\n",
            "variable([[2.28647965]]) variable([[5.40382974]]) variable(0.08943785352686673)\n",
            "variable([[2.28272322]]) variable([[5.40566997]]) variable(0.08925937263008665)\n",
            "variable([[2.27901607]]) variable([[5.40748594]]) variable(0.08908554910081916)\n",
            "variable([[2.27535758]]) variable([[5.40927797]]) variable(0.08891626140683584)\n",
            "variable([[2.2717471]]) variable([[5.41104642]]) variable(0.08875139118750765)\n",
            "variable([[2.26818402]]) variable([[5.41279159]]) variable(0.08859082317092382)\n",
            "variable([[2.26466771]]) variable([[5.41451381]]) variable(0.08843444509322496)\n",
            "variable([[2.26119758]]) variable([[5.41621339]]) variable(0.08828214762007038)\n",
            "variable([[2.25777301]]) variable([[5.41789062]]) variable(0.08813382427017152)\n",
            "variable([[2.25439342]]) variable([[5.41954581]]) variable(0.08798937134083049)\n",
            "variable([[2.2510582]]) variable([[5.42117926]]) variable(0.08784868783542686)\n",
            "variable([[2.24776678]]) variable([[5.42279124]]) variable(0.08771167539279984)\n",
            "variable([[2.24451859]]) variable([[5.42438204]]) variable(0.08757823821847507)\n",
            "variable([[2.24131305]]) variable([[5.42595195]]) variable(0.08744828301768674)\n",
            "variable([[2.23814961]]) variable([[5.42750124]]) variable(0.08732171893014855)\n",
            "variable([[2.23502772]]) variable([[5.42903017]]) variable(0.08719845746652632)\n",
            "variable([[2.23194683]]) variable([[5.43053903]]) variable(0.08707841244656961)\n",
            "variable([[2.2289064]]) variable([[5.43202806]]) variable(0.08696149993885667)\n",
            "variable([[2.2259059]]) variable([[5.43349754]]) variable(0.08684763820211253)\n",
            "variable([[2.22294481]]) variable([[5.43494772]]) variable(0.08673674762805846)\n",
            "variable([[2.22002261]]) variable([[5.43637885]]) variable(0.08662875068575221)\n",
            "variable([[2.21713878]]) variable([[5.43779119]]) variable(0.08652357186738102)\n",
            "variable([[2.21429283]]) variable([[5.43918497]]) variable(0.08642113763546931)\n",
            "variable([[2.21148426]]) variable([[5.44056045]]) variable(0.0863213763714635)\n",
            "variable([[2.20871257]]) variable([[5.44191787]]) variable(0.08622421832565892)\n",
            "variable([[2.20597729]]) variable([[5.44325745]]) variable(0.08612959556843305)\n",
            "variable([[2.20327793]]) variable([[5.44457945]]) variable(0.08603744194275156)\n",
            "variable([[2.20061402]]) variable([[5.44588408]]) variable(0.08594769301791334)\n",
            "variable([[2.1979851]]) variable([[5.44717158]]) variable(0.08586028604450295)\n",
            "variable([[2.1953907]]) variable([[5.44844216]]) variable(0.08577515991051816)\n",
            "variable([[2.19283038]]) variable([[5.44969606]]) variable(0.08569225509864266)\n",
            "variable([[2.19030368]]) variable([[5.4509335]]) variable(0.08561151364463354)\n",
            "variable([[2.18781017]]) variable([[5.45215468]]) variable(0.08553287909679451)\n",
            "variable([[2.18534941]]) variable([[5.45335982]]) variable(0.08545629647650686)\n",
            "variable([[2.18292096]]) variable([[5.45454913]]) variable(0.08538171223979045)\n",
            "variable([[2.18052441]]) variable([[5.45572283]]) variable(0.08530907423986721)\n",
            "variable([[2.17815933]]) variable([[5.45688111]]) variable(0.08523833169070218)\n",
            "variable([[2.17582532]]) variable([[5.45802418]]) variable(0.08516943513149551)\n",
            "variable([[2.17352196]]) variable([[5.45915223]]) variable(0.0851023363921011)\n",
            "variable([[2.17124885]]) variable([[5.46026547]]) variable(0.08503698855934783)\n",
            "variable([[2.16900559]]) variable([[5.46136409]]) variable(0.08497334594423905)\n",
            "variable([[2.1667918]]) variable([[5.46244828]]) variable(0.08491136405000917)\n",
            "variable([[2.16460708]]) variable([[5.46351823]]) variable(0.08485099954101201)\n",
            "variable([[2.16245105]]) variable([[5.46457413]]) variable(0.08479221021242273)\n",
            "variable([[2.16032334]]) variable([[5.46561616]]) variable(0.08473495496072937)\n",
            "variable([[2.15822358]]) variable([[5.46664451]]) variable(0.08467919375499475)\n",
            "variable([[2.15615139]]) variable([[5.46765935]]) variable(0.08462488760886805)\n",
            "variable([[2.15410642]]) variable([[5.46866086]]) variable(0.084571998553327)\n"
          ]
        }
      ]
    },
    {
      "cell_type": "code",
      "source": [
        "import matplotlib.pyplot as plt\n",
        "x = Variable(np.random.rand(100, 1))\n",
        "y = sin(2 * np.pi * x) + np.random.rand(100, 1)\n",
        "\n",
        "\n",
        "iter = 10000 \n",
        "lr = 0.2\n",
        "\n",
        "W1 = Variable(0.01 * np.random.rand(1, 10)) \n",
        "B1 = Variable(np.zeros(10))\n",
        "W2 = Variable(0.01 * np.random.rand(10, 1)) \n",
        "B2 = Variable(np.zeros(1))\n",
        "\n",
        "def predict():\n",
        "  y = linear(x, W1, B1)\n",
        "  y = sigmoid(y)\n",
        "  y = linear(y, W2, B2)\n",
        "  return y\n",
        "plt.plot(x.data, y.data, 'ro')\n",
        "p_y = predict()\n",
        "plt.plot(x.data, p_y.data, \"bo\")\n",
        "\n",
        "for i in range(iter):\n",
        "  y_pred = predict()\n",
        "  loss = mean_squared_error(y, y_pred)\n",
        "  W1.cleargrad()\n",
        "  B1.cleargrad()\n",
        "  W2.cleargrad()\n",
        "  B2.cleargrad()\n",
        "\n",
        "  loss.backward()\n",
        "\n",
        "  W1.data -= lr * W1.grad.data\n",
        "  B1.data -= lr * B1.grad.data\n",
        "  W2.data -= lr * W2.grad.data\n",
        "  B2.data -= lr * B2.grad.data\n",
        "\n",
        "plt.plot(x.data, predict().data, \"yo\")\n",
        " "
      ],
      "metadata": {
        "colab": {
          "base_uri": "https://localhost:8080/",
          "height": 288
        },
        "id": "-xBEN59goIsD",
        "outputId": "1cde1217-ed3f-4800-9e99-2ed5a6cf31b1"
      },
      "execution_count": 33,
      "outputs": [
        {
          "output_type": "execute_result",
          "data": {
            "text/plain": [
              "[<matplotlib.lines.Line2D at 0x7fa4b01b2c10>]"
            ]
          },
          "metadata": {},
          "execution_count": 33
        },
        {
          "output_type": "display_data",
          "data": {
            "text/plain": [
              "<Figure size 432x288 with 1 Axes>"
            ],
            "image/png": "[encoded data removed]"
          },
          "metadata": {
            "needs_background": "light"
          }
        }
      ]
    },
    {
      "cell_type": "code",
      "source": [
        "import matplotlib.pyplot as plt\n",
        "x = np.random.rand(100, 1)\n",
        "y = np.sin(2 * np.pi * x) + np.random.rand(100, 1)\n",
        "plt.plot(x, y, \"ro\")\n",
        "model = MLP((10, 1))\n",
        "\n",
        "lr = 0.2\n",
        "iters = 10000\n",
        "for i in range(iters):\n",
        "  y_pred = model(x)\n",
        "  loss = mean_squared_error(y, y_pred)\n",
        "  model.cleargrads()\n",
        "  loss.backward()\n",
        "  # k = model.params()\n",
        "  # print(k)\n",
        "  for l in model.params():\n",
        "    # print(l.grad)\n",
        "    l.data -= lr * l.grad.data\n",
        "  \n",
        "  # if (iters % 1000 == 0):\n",
        "  #   print(loss)\n",
        "\n",
        "plt.plot(x, model(x).data, \"bo\")\n",
        "  "
      ],
      "metadata": {
        "colab": {
          "base_uri": "https://localhost:8080/",
          "height": 284
        },
        "id": "3mFDpsY6mn2o",
        "outputId": "0229fe80-d7ae-4965-cdc4-85ed4586b142"
      },
      "execution_count": 39,
      "outputs": [
        {
          "output_type": "execute_result",
          "data": {
            "text/plain": [
              "[<matplotlib.lines.Line2D at 0x7fa495ac7e20>]"
            ]
          },
          "metadata": {},
          "execution_count": 39
        },
        {
          "output_type": "display_data",
          "data": {
            "text/plain": [
              "<Figure size 432x288 with 1 Axes>"
            ],
            "image/png": "[encoded data removed]"
          },
          "metadata": {
            "needs_background": "light"
          }
        }
      ]
    }
  ]
}