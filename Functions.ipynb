{
  "nbformat": 4,
  "nbformat_minor": 0,
  "metadata": {
    "colab": {
      "provenance": [],
      "authorship_tag": "ABX9TyN05pDl8vvCuBbSJMkPke2x",
      "include_colab_link": true
    },
    "kernelspec": {
      "name": "python3",
      "display_name": "Python 3"
    },
    "language_info": {
      "name": "python"
    }
  },
  "cells": [
    {
      "cell_type": "markdown",
      "metadata": {
        "id": "view-in-github",
        "colab_type": "text"
      },
      "source": [
        "<a href=\"https://colab.research.google.com/github/PSuHyeon/Simple_TensorFlow/blob/main/Functions.ipynb\" target=\"_parent\"><img src=\"https://colab.research.google.com/assets/colab-badge.svg\" alt=\"Open In Colab\"/></a>"
      ]
    },
    {
      "cell_type": "markdown",
      "source": [
        "Import 명령어 (import_ipynb module 사용함)"
      ],
      "metadata": {
        "id": "r1vCYZSYlcFQ"
      }
    },
    {
      "cell_type": "code",
      "source": [
        "!pip install import_ipynb\n",
        "from google.colab import drive\n",
        "drive.mount('/content/drive') "
      ],
      "metadata": {
        "colab": {
          "base_uri": "https://localhost:8080/"
        },
        "id": "iozorkajlm1V",
        "outputId": "5596a8cc-44cb-4fc0-fc01-04c32203284c"
      },
      "execution_count": 30,
      "outputs": [
        {
          "output_type": "stream",
          "name": "stdout",
          "text": [
            "Looking in indexes: https://pypi.org/simple, https://us-python.pkg.dev/colab-wheels/public/simple/\n",
            "Requirement already satisfied: import_ipynb in /usr/local/lib/python3.8/dist-packages (0.1.4)\n",
            "Requirement already satisfied: nbformat in /usr/local/lib/python3.8/dist-packages (from import_ipynb) (5.7.3)\n",
            "Requirement already satisfied: IPython in /usr/local/lib/python3.8/dist-packages (from import_ipynb) (7.9.0)\n",
            "Requirement already satisfied: traitlets>=4.2 in /usr/local/lib/python3.8/dist-packages (from IPython->import_ipynb) (5.7.1)\n",
            "Requirement already satisfied: pickleshare in /usr/local/lib/python3.8/dist-packages (from IPython->import_ipynb) (0.7.5)\n",
            "Requirement already satisfied: pygments in /usr/local/lib/python3.8/dist-packages (from IPython->import_ipynb) (2.6.1)\n",
            "Requirement already satisfied: decorator in /usr/local/lib/python3.8/dist-packages (from IPython->import_ipynb) (4.4.2)\n",
            "Requirement already satisfied: pexpect in /usr/local/lib/python3.8/dist-packages (from IPython->import_ipynb) (4.8.0)\n",
            "Requirement already satisfied: jedi>=0.10 in /usr/local/lib/python3.8/dist-packages (from IPython->import_ipynb) (0.18.2)\n",
            "Requirement already satisfied: prompt-toolkit<2.1.0,>=2.0.0 in /usr/local/lib/python3.8/dist-packages (from IPython->import_ipynb) (2.0.10)\n",
            "Requirement already satisfied: setuptools>=18.5 in /usr/local/lib/python3.8/dist-packages (from IPython->import_ipynb) (57.4.0)\n",
            "Requirement already satisfied: backcall in /usr/local/lib/python3.8/dist-packages (from IPython->import_ipynb) (0.2.0)\n",
            "Requirement already satisfied: jupyter-core in /usr/local/lib/python3.8/dist-packages (from nbformat->import_ipynb) (5.2.0)\n",
            "Requirement already satisfied: jsonschema>=2.6 in /usr/local/lib/python3.8/dist-packages (from nbformat->import_ipynb) (4.3.3)\n",
            "Requirement already satisfied: fastjsonschema in /usr/local/lib/python3.8/dist-packages (from nbformat->import_ipynb) (2.16.3)\n",
            "Requirement already satisfied: parso<0.9.0,>=0.8.0 in /usr/local/lib/python3.8/dist-packages (from jedi>=0.10->IPython->import_ipynb) (0.8.3)\n",
            "Requirement already satisfied: pyrsistent!=0.17.0,!=0.17.1,!=0.17.2,>=0.14.0 in /usr/local/lib/python3.8/dist-packages (from jsonschema>=2.6->nbformat->import_ipynb) (0.19.3)\n",
            "Requirement already satisfied: attrs>=17.4.0 in /usr/local/lib/python3.8/dist-packages (from jsonschema>=2.6->nbformat->import_ipynb) (22.2.0)\n",
            "Requirement already satisfied: importlib-resources>=1.4.0 in /usr/local/lib/python3.8/dist-packages (from jsonschema>=2.6->nbformat->import_ipynb) (5.12.0)\n",
            "Requirement already satisfied: six>=1.9.0 in /usr/local/lib/python3.8/dist-packages (from prompt-toolkit<2.1.0,>=2.0.0->IPython->import_ipynb) (1.15.0)\n",
            "Requirement already satisfied: wcwidth in /usr/local/lib/python3.8/dist-packages (from prompt-toolkit<2.1.0,>=2.0.0->IPython->import_ipynb) (0.2.6)\n",
            "Requirement already satisfied: platformdirs>=2.5 in /usr/local/lib/python3.8/dist-packages (from jupyter-core->nbformat->import_ipynb) (3.0.0)\n",
            "Requirement already satisfied: ptyprocess>=0.5 in /usr/local/lib/python3.8/dist-packages (from pexpect->IPython->import_ipynb) (0.7.0)\n",
            "Requirement already satisfied: zipp>=3.1.0 in /usr/local/lib/python3.8/dist-packages (from importlib-resources>=1.4.0->jsonschema>=2.6->nbformat->import_ipynb) (3.15.0)\n",
            "Drive already mounted at /content/drive; to attempt to forcibly remount, call drive.mount(\"/content/drive\", force_remount=True).\n"
          ]
        }
      ]
    },
    {
      "cell_type": "code",
      "execution_count": 31,
      "metadata": {
        "id": "MHxOy3jxp6DJ"
      },
      "outputs": [],
      "source": [
        "import import_ipynb\n",
        "import numpy as np\n",
        "# import drive.MyDrive.Colab_Notebooks.Simple_tf.Var_Fun as VF"
      ]
    },
    {
      "cell_type": "code",
      "source": [
        "# Colab 과 Google drive 환경에서 개발했기 때문에 추후에 import 주소 변경해야 할 수 있음. \n",
        "%run drive/MyDrive/Colab_Notebooks/Simple_tf/Var_Fun.ipynb"
      ],
      "metadata": {
        "id": "zoLvqWCeyTcJ"
      },
      "execution_count": 32,
      "outputs": []
    },
    {
      "cell_type": "code",
      "source": [
        "class Sin(Function):\n",
        "\n",
        "  def forward(self, x):\n",
        "    y = np.sin(x)\n",
        "    return y\n",
        "  \n",
        "  def backward(self, gx):\n",
        "    y = cos(self.inputs[0])\n",
        "    return y * gx\n",
        "  \n",
        "def sin(x):\n",
        "  return Sin()(x)"
      ],
      "metadata": {
        "id": "b8zSuUDamA-d"
      },
      "execution_count": 41,
      "outputs": []
    },
    {
      "cell_type": "code",
      "source": [
        "class Cos(Function):\n",
        "\n",
        "  def forward(self, x):\n",
        "    y = np.cos(x)\n",
        "    return y\n",
        "\n",
        "  def backward(self, gx):\n",
        "    y = -sin(self.inputs[0])\n",
        "    return y * gx\n",
        "\n",
        "def cos(x):\n",
        "  return Cos()(x) "
      ],
      "metadata": {
        "id": "kjgzwPUm_utK"
      },
      "execution_count": 39,
      "outputs": []
    },
    {
      "cell_type": "code",
      "source": [
        "class Tanh(Function):\n",
        "\n",
        "  def forward(self, x):\n",
        "    y = np.tanh(x)\n",
        "    return y\n",
        "\n",
        "  def backward(self, gy):\n",
        "    y = self.outputs[0]()\n",
        "    gx = 1 - y ** 2\n",
        "    return gy * gx \n",
        "\n",
        "def tanh(x):\n",
        "  return Tanh()(x)"
      ],
      "metadata": {
        "id": "HFaNw419Guzl"
      },
      "execution_count": 43,
      "outputs": []
    },
    {
      "cell_type": "code",
      "source": [
        "def rosenbrock(x0, x1):\n",
        "  y = 100 * (x1 - x0 ** 2) ** 2 + (1 - x0) ** 2\n",
        "  return y"
      ],
      "metadata": {
        "id": "lYqibZB7x1TU"
      },
      "execution_count": 35,
      "outputs": []
    },
    {
      "cell_type": "markdown",
      "source": [
        "Testing Sin graph with its first, second, third order differentiation"
      ],
      "metadata": {
        "id": "MNx265-YC5g7"
      }
    },
    {
      "cell_type": "code",
      "source": [
        "import matplotlib.pyplot as plt\n",
        "x = Variable(np.linspace(-5, 5, 200)) \n",
        "y = sin(x)\n",
        "y.backward(create_graph = True) \n",
        "\n",
        "logs = [y.data]\n",
        "\n",
        "for i in range(3):\n",
        "  logs.append(x.grad.data)\n",
        "  gx = x.grad \n",
        "  x.cleargrad() \n",
        "  gx.backward(create_graph=True)\n",
        "labels = [\"y\", \"y'\", \"y''\", \"y'''\"]\n",
        "for i, v in enumerate(logs):\n",
        "  plt.plot(x.data, logs[i], label = labels[i])\n",
        "plt.legend(loc='lower right')\n",
        "plt.show()"
      ],
      "metadata": {
        "colab": {
          "base_uri": "https://localhost:8080/",
          "height": 265
        },
        "id": "6yzHZD1GC45l",
        "outputId": "c82d6df1-90b6-46f9-969b-bb56270f2389"
      },
      "execution_count": 42,
      "outputs": [
        {
          "output_type": "display_data",
          "data": {
            "text/plain": [
              "<Figure size 432x288 with 1 Axes>"
            ],
            "image/png": "[encoded data removed]"
          },
          "metadata": {
            "needs_background": "light"
          }
        }
      ]
    },
    {
      "cell_type": "markdown",
      "source": [
        "Testing efficiency for newton's method:\n",
        "\n",
        "Newton's method works well since it automatically approximate learning rate using second order differentiation. However, calculating second order differentiation takes O(n^3), and therefore, it is not applicable for ordinary machine learning\n",
        "\n"
      ],
      "metadata": {
        "id": "M4j8IQJ8A51_"
      }
    },
    {
      "cell_type": "code",
      "source": [
        "x = Variable(np.array(2.0))\n",
        "f = lambda x: x ** 4 - 2 * x ** 2\n",
        "iter = 10 #only 10 iterations!\n",
        "\n",
        "for i in range(iter):\n",
        "  y = f(x)\n",
        "  x.cleargrad()\n",
        "  y.backward(create_graph=True)\n",
        "\n",
        "  dx = x.grad\n",
        "  x.cleargrad()\n",
        "  dx.backward()\n",
        "  ddx = x.grad\n",
        "\n",
        "  x.data -= dx.data / ddx.data \n",
        "\n",
        "  print(x.data)\n"
      ],
      "metadata": {
        "colab": {
          "base_uri": "https://localhost:8080/"
        },
        "id": "bxmKVw2jm5Y3",
        "outputId": "f67fa9eb-9d76-4fe4-f5d0-9c9d1fa11a61"
      },
      "execution_count": 44,
      "outputs": [
        {
          "output_type": "stream",
          "name": "stdout",
          "text": [
            "1.4545454545454546\n",
            "1.1510467893775467\n",
            "1.0253259289766978\n",
            "1.0009084519430513\n",
            "1.0000012353089454\n",
            "1.000000000002289\n",
            "1.0\n",
            "1.0\n",
            "1.0\n",
            "1.0\n"
          ]
        }
      ]
    },
    {
      "cell_type": "code",
      "source": [],
      "metadata": {
        "id": "o6u8ftEwHj9Y"
      },
      "execution_count": null,
      "outputs": []
    }
  ]
}